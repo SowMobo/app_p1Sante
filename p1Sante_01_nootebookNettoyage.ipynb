{
 "cells": [
  {
   "cell_type": "markdown",
   "metadata": {},
   "source": [
    "# Importation des dependances "
   ]
  },
  {
   "cell_type": "code",
   "execution_count": 1,
   "metadata": {},
   "outputs": [],
   "source": [
    "import pandas as pd"
   ]
  },
  {
   "cell_type": "markdown",
   "metadata": {},
   "source": [
    "# 1) Idée d'application sur le jeu de données `open Food Fac`"
   ]
  },
  {
   "cell_type": "markdown",
   "metadata": {},
   "source": [
    "L'analyse du jeu de données **open Food Fac** peut donner lieu à plusieurs d'idées d'application pour les professionnels de santé. Aujourd'hui, un consommateur français est très souvent confrontés à l'ambarant de choix par rapport à la qualité ou à une multitude de version d'un même produit. L'utilisateur s'interroge sur plusieurs caractéristiques du produit notamment est-ce que naturel/bio, éco ou encore responsable. Ce dilenme de choix constitue une partie du problème. L'autre partie du problème concerne la corrélation qui pourrait exister entre ce que l'on mange ou bois et notre performance au quotidient dans le travail notamment. Pour elaborer notre idée d'application, nous allons nous intéressé à l'un de ces cas de corrélation cachés qui venons d'evoquer."
   ]
  },
  {
   "cell_type": "markdown",
   "metadata": {},
   "source": [
    "Pour notre d'idée d'application, nous avons pensé à la `corrélation qui existent entre notre alimentation et la qualité de notre sommeil`. Nous allons être specifique quand la nature du produit concerné. Notre problématique peut se être reformuler en posant la question suivante: `Quels sont les vitamines, ingrédients ou nutriments qui contribuent à la qualité de notre sommeil quotidient?`. "
   ]
  },
  {
   "cell_type": "markdown",
   "metadata": {},
   "source": [
    "Comme vous le saviez le sommeil a une importance capital dans notre `système immunitaire`. Il contribue également à notre `performance au travail`. Comme indicateur majeur de l'importance du sujet, d'après le service  CHU de Bordeau, spécialisé sur les troubles du sommeil, le manque de sommeil peut favoriser la contraction du `COVID-LONG`."
   ]
  },
  {
   "cell_type": "markdown",
   "metadata": {},
   "source": [
    "Pour mener notre étude, nous allons au préalable, identifier ces ingredients, nutriments ou vitamines en faisant un bref état d'art sur la thématique. Ensuite, nous justifiérons ces faits en faisant une analyse exploratoire de notre jeu de donées nettoyé."
   ]
  },
  {
   "cell_type": "markdown",
   "metadata": {},
   "source": [
    "## 1.1) Etat d'art sur la thématique `alimentation ou nutrition et sommeil`"
   ]
  },
  {
   "cell_type": "markdown",
   "metadata": {},
   "source": [
    "Nous pouvons lire sur l'article **sommeils: Ces 5 vitamines et minéreaux qui aideraient a mieux dormir** de CNEWS publié le 23 juin `2021` (pour lire l'article cliquer [ici](https://www.cnews.fr/nutrition/2021-06-23/sommeil-ces-5-vitamines-et-mineraux-qui-aideraient-mieux-dormir-1096566)) que l'insomnie, réveil matinal, nuit agitéé, etc peuvent être lutter en consommant au quotidient les 5 vitanimes ou minéreaux suivants:\n",
    "> - **La vitamine B3 ou Niacine**: present dans `les abats, les volailles et les poissons gras, les céréales`. Elle sert à créer de la sérotonine et de la mélatonine communément appelée « hormone du sommeil ».\n",
    "> - **La Vitamine D**: une étude publiée dans le Journal of Clinical Sleep Medicine a montré qu'il existe une forte corrélation entre la somnolence excessive et la carence en vitamine D. A défaut du soleil, la vitamine D peut être récuperée en consommant `saumon, thon, foie de morue`… \n",
    "> - **Le magnesium**: en plus de ses bienfaits pour lutter contre le stress, le minéral magnesium se revéle efficace contre les insomnies. Il est présent dans `les céréales complètes, le chocolat noir, les noix et les amandes et enfin certaines eaux minérales`.\n",
    "> - **Le potassium**: c'est un sel minéral qu'on trouve dans `les bananes, les avocats, les haricots ou encore les patates douces`. Il est connue pour son efficacité contre les reveils précoces qui se muent en insomnie."
   ]
  },
  {
   "cell_type": "markdown",
   "metadata": {},
   "source": [
    "En plus de ces informations, nous avons consulté d'autres références qui nous ont permit de rdecouvrir d'autres indices sur le sujet tels que [source](https://institut-sommeil-vigilance.org/sommeil-et-alimentation/):\n",
    "> - **Les féculents** riches en **glucides** et présents dans `le riz, les pâtes, la semoule, le pain, la pomme de terre`…\n",
    "> - **Les sucre lents** qui facilitent a production de la sérotonine indispensable à la sécrétion de la mélatonine, hormone qui apporte l’information à l’organisme qu’il fait nuit et qu’il est temps de dormir.\n",
    "> - Le **tryptophane**, un acide aminé que le corps ne sait pas fabriquer, favorise l’endormissement. On trouve le `tryptophane` dans Les œufs, Les noix, amandes et noisettes, Les produits laitiers, Certaines céréales et féculents : avoine, soja, mais, seigle, sésame, riz, quinoa, etc.\n",
    "> - **La caféine, la taurine, la nicotine, alcool**, dont les propriétés éveillantes sont connues, est présente dans le café, le thé, le chocolat, l'alcool et la plupart des boissons énergisantes ou à base de cola sont un impact négatif sur le sommeil notamment lorsqu'on les consomment dans l'après-midi."
   ]
  },
  {
   "cell_type": "markdown",
   "metadata": {},
   "source": [
    "Les indices `Vitamine D, magnesium, potassium, glucides, sucre, caféine, taurine et alcool` sont definis dans notre jeu de données. Par contre le `tryptophane` est manquant. Nous pouvons retrouver sur [wikipedia](https://en.wikipedia.org/wiki/Tryptophan) la composition en tryptophane des aliments riches en tryptophane. Comme il s'agit d'un indice essentiel pour notre analyse, nous avons pensé à l'ajouter à notre jeu de données après le nettaoyage de ce dernier."
   ]
  },
  {
   "cell_type": "markdown",
   "metadata": {},
   "source": [
    "## 1.2) Strategie de mise en application"
   ]
  },
  {
   "cell_type": "markdown",
   "metadata": {},
   "source": []
  },
  {
   "cell_type": "markdown",
   "metadata": {},
   "source": [
    "# 2) Analyse pré-exploratoire"
   ]
  },
  {
   "cell_type": "markdown",
   "metadata": {},
   "source": [
    "## 2.1) Mission \n",
    "Notre objectif dans cette première phase du projet consiste à charger le jeu de données disponible sur `Open Food Fac` et prendre connaissance des données dans un premier temps. Dans un second temps, nous examinons la qualité des données et ensuite apporter des actions correctives afin de la préparer pour la seconde phase, **phase d'exploration !**"
   ]
  },
  {
   "cell_type": "markdown",
   "metadata": {},
   "source": [
    "## 2.2) Chargement des données\n",
    "Nous avons télecharger le jeu de données disponible [ici](https://s3-eu-west-1.amazonaws.com/static.oc-static.com/prod/courses/files/parcours-data-scientist/P2/fr.openfoodfacts.org.products.csv.zip). Il s'agit d'un fichier au format `.csv`. Donc nous allons le chargé à l'aide de la founction `read_csv` de `pandas`. Le résultat du chaegement est stocké dans la variable `df_foods` de type 'DataFrame`.\n",
    "\n",
    "Comme l'indique le [fichier descriptif des données](https://world.openfoodfacts.org/data/data-fields.txt):\n",
    "- les colonnes sont uniquement separarées par des tabulations\n",
    "- l'encodage utilisé est *UTF-8*\n",
    "- les entêtes des colonnes sont déjà définis \n",
    "Ces informations nous permettent d'initialiser les arguments de la fonction `read_csv`."
   ]
  },
  {
   "cell_type": "code",
   "execution_count": 4,
   "metadata": {},
   "outputs": [
    {
     "name": "stderr",
     "output_type": "stream",
     "text": [
      "/opt/miniconda3/envs/p1Sante/lib/python3.7/site-packages/IPython/core/interactiveshell.py:3457: DtypeWarning: Columns (0,3,5,19,20,24,25,26,27,28,35,36,37,38,39,48) have mixed types.Specify dtype option on import or set low_memory=False.\n",
      "  exec(code_obj, self.user_global_ns, self.user_ns)\n"
     ]
    }
   ],
   "source": [
    "df_foods = pd.read_csv('data/fr.openfoodfacts.org.products.csv', sep = '\\t', encoding = 'UTF-8')"
   ]
  },
  {
   "cell_type": "markdown",
   "metadata": {},
   "source": [
    "**👉  Observons les 5 premières lignes de notre dataframe pour verifier si les données sont correctements chargées**"
   ]
  },
  {
   "cell_type": "code",
   "execution_count": 5,
   "metadata": {},
   "outputs": [
    {
     "data": {
      "text/html": [
       "<div>\n",
       "<style scoped>\n",
       "    .dataframe tbody tr th:only-of-type {\n",
       "        vertical-align: middle;\n",
       "    }\n",
       "\n",
       "    .dataframe tbody tr th {\n",
       "        vertical-align: top;\n",
       "    }\n",
       "\n",
       "    .dataframe thead th {\n",
       "        text-align: right;\n",
       "    }\n",
       "</style>\n",
       "<table border=\"1\" class=\"dataframe\">\n",
       "  <thead>\n",
       "    <tr style=\"text-align: right;\">\n",
       "      <th></th>\n",
       "      <th>code</th>\n",
       "      <th>url</th>\n",
       "      <th>creator</th>\n",
       "      <th>created_t</th>\n",
       "      <th>created_datetime</th>\n",
       "      <th>last_modified_t</th>\n",
       "      <th>last_modified_datetime</th>\n",
       "      <th>product_name</th>\n",
       "      <th>generic_name</th>\n",
       "      <th>quantity</th>\n",
       "      <th>...</th>\n",
       "      <th>ph_100g</th>\n",
       "      <th>fruits-vegetables-nuts_100g</th>\n",
       "      <th>collagen-meat-protein-ratio_100g</th>\n",
       "      <th>cocoa_100g</th>\n",
       "      <th>chlorophyl_100g</th>\n",
       "      <th>carbon-footprint_100g</th>\n",
       "      <th>nutrition-score-fr_100g</th>\n",
       "      <th>nutrition-score-uk_100g</th>\n",
       "      <th>glycemic-index_100g</th>\n",
       "      <th>water-hardness_100g</th>\n",
       "    </tr>\n",
       "  </thead>\n",
       "  <tbody>\n",
       "    <tr>\n",
       "      <th>0</th>\n",
       "      <td>3087</td>\n",
       "      <td>http://world-fr.openfoodfacts.org/produit/0000...</td>\n",
       "      <td>openfoodfacts-contributors</td>\n",
       "      <td>1474103866</td>\n",
       "      <td>2016-09-17T09:17:46Z</td>\n",
       "      <td>1474103893</td>\n",
       "      <td>2016-09-17T09:18:13Z</td>\n",
       "      <td>Farine de blé noir</td>\n",
       "      <td>NaN</td>\n",
       "      <td>1kg</td>\n",
       "      <td>...</td>\n",
       "      <td>NaN</td>\n",
       "      <td>NaN</td>\n",
       "      <td>NaN</td>\n",
       "      <td>NaN</td>\n",
       "      <td>NaN</td>\n",
       "      <td>NaN</td>\n",
       "      <td>NaN</td>\n",
       "      <td>NaN</td>\n",
       "      <td>NaN</td>\n",
       "      <td>NaN</td>\n",
       "    </tr>\n",
       "    <tr>\n",
       "      <th>1</th>\n",
       "      <td>4530</td>\n",
       "      <td>http://world-fr.openfoodfacts.org/produit/0000...</td>\n",
       "      <td>usda-ndb-import</td>\n",
       "      <td>1489069957</td>\n",
       "      <td>2017-03-09T14:32:37Z</td>\n",
       "      <td>1489069957</td>\n",
       "      <td>2017-03-09T14:32:37Z</td>\n",
       "      <td>Banana Chips Sweetened (Whole)</td>\n",
       "      <td>NaN</td>\n",
       "      <td>NaN</td>\n",
       "      <td>...</td>\n",
       "      <td>NaN</td>\n",
       "      <td>NaN</td>\n",
       "      <td>NaN</td>\n",
       "      <td>NaN</td>\n",
       "      <td>NaN</td>\n",
       "      <td>NaN</td>\n",
       "      <td>14.0</td>\n",
       "      <td>14.0</td>\n",
       "      <td>NaN</td>\n",
       "      <td>NaN</td>\n",
       "    </tr>\n",
       "    <tr>\n",
       "      <th>2</th>\n",
       "      <td>4559</td>\n",
       "      <td>http://world-fr.openfoodfacts.org/produit/0000...</td>\n",
       "      <td>usda-ndb-import</td>\n",
       "      <td>1489069957</td>\n",
       "      <td>2017-03-09T14:32:37Z</td>\n",
       "      <td>1489069957</td>\n",
       "      <td>2017-03-09T14:32:37Z</td>\n",
       "      <td>Peanuts</td>\n",
       "      <td>NaN</td>\n",
       "      <td>NaN</td>\n",
       "      <td>...</td>\n",
       "      <td>NaN</td>\n",
       "      <td>NaN</td>\n",
       "      <td>NaN</td>\n",
       "      <td>NaN</td>\n",
       "      <td>NaN</td>\n",
       "      <td>NaN</td>\n",
       "      <td>0.0</td>\n",
       "      <td>0.0</td>\n",
       "      <td>NaN</td>\n",
       "      <td>NaN</td>\n",
       "    </tr>\n",
       "    <tr>\n",
       "      <th>3</th>\n",
       "      <td>16087</td>\n",
       "      <td>http://world-fr.openfoodfacts.org/produit/0000...</td>\n",
       "      <td>usda-ndb-import</td>\n",
       "      <td>1489055731</td>\n",
       "      <td>2017-03-09T10:35:31Z</td>\n",
       "      <td>1489055731</td>\n",
       "      <td>2017-03-09T10:35:31Z</td>\n",
       "      <td>Organic Salted Nut Mix</td>\n",
       "      <td>NaN</td>\n",
       "      <td>NaN</td>\n",
       "      <td>...</td>\n",
       "      <td>NaN</td>\n",
       "      <td>NaN</td>\n",
       "      <td>NaN</td>\n",
       "      <td>NaN</td>\n",
       "      <td>NaN</td>\n",
       "      <td>NaN</td>\n",
       "      <td>12.0</td>\n",
       "      <td>12.0</td>\n",
       "      <td>NaN</td>\n",
       "      <td>NaN</td>\n",
       "    </tr>\n",
       "    <tr>\n",
       "      <th>4</th>\n",
       "      <td>16094</td>\n",
       "      <td>http://world-fr.openfoodfacts.org/produit/0000...</td>\n",
       "      <td>usda-ndb-import</td>\n",
       "      <td>1489055653</td>\n",
       "      <td>2017-03-09T10:34:13Z</td>\n",
       "      <td>1489055653</td>\n",
       "      <td>2017-03-09T10:34:13Z</td>\n",
       "      <td>Organic Polenta</td>\n",
       "      <td>NaN</td>\n",
       "      <td>NaN</td>\n",
       "      <td>...</td>\n",
       "      <td>NaN</td>\n",
       "      <td>NaN</td>\n",
       "      <td>NaN</td>\n",
       "      <td>NaN</td>\n",
       "      <td>NaN</td>\n",
       "      <td>NaN</td>\n",
       "      <td>NaN</td>\n",
       "      <td>NaN</td>\n",
       "      <td>NaN</td>\n",
       "      <td>NaN</td>\n",
       "    </tr>\n",
       "  </tbody>\n",
       "</table>\n",
       "<p>5 rows × 162 columns</p>\n",
       "</div>"
      ],
      "text/plain": [
       "    code                                                url  \\\n",
       "0   3087  http://world-fr.openfoodfacts.org/produit/0000...   \n",
       "1   4530  http://world-fr.openfoodfacts.org/produit/0000...   \n",
       "2   4559  http://world-fr.openfoodfacts.org/produit/0000...   \n",
       "3  16087  http://world-fr.openfoodfacts.org/produit/0000...   \n",
       "4  16094  http://world-fr.openfoodfacts.org/produit/0000...   \n",
       "\n",
       "                      creator   created_t      created_datetime  \\\n",
       "0  openfoodfacts-contributors  1474103866  2016-09-17T09:17:46Z   \n",
       "1             usda-ndb-import  1489069957  2017-03-09T14:32:37Z   \n",
       "2             usda-ndb-import  1489069957  2017-03-09T14:32:37Z   \n",
       "3             usda-ndb-import  1489055731  2017-03-09T10:35:31Z   \n",
       "4             usda-ndb-import  1489055653  2017-03-09T10:34:13Z   \n",
       "\n",
       "  last_modified_t last_modified_datetime                    product_name  \\\n",
       "0      1474103893   2016-09-17T09:18:13Z              Farine de blé noir   \n",
       "1      1489069957   2017-03-09T14:32:37Z  Banana Chips Sweetened (Whole)   \n",
       "2      1489069957   2017-03-09T14:32:37Z                         Peanuts   \n",
       "3      1489055731   2017-03-09T10:35:31Z          Organic Salted Nut Mix   \n",
       "4      1489055653   2017-03-09T10:34:13Z                 Organic Polenta   \n",
       "\n",
       "  generic_name quantity  ... ph_100g fruits-vegetables-nuts_100g  \\\n",
       "0          NaN      1kg  ...     NaN                         NaN   \n",
       "1          NaN      NaN  ...     NaN                         NaN   \n",
       "2          NaN      NaN  ...     NaN                         NaN   \n",
       "3          NaN      NaN  ...     NaN                         NaN   \n",
       "4          NaN      NaN  ...     NaN                         NaN   \n",
       "\n",
       "  collagen-meat-protein-ratio_100g cocoa_100g chlorophyl_100g  \\\n",
       "0                              NaN        NaN             NaN   \n",
       "1                              NaN        NaN             NaN   \n",
       "2                              NaN        NaN             NaN   \n",
       "3                              NaN        NaN             NaN   \n",
       "4                              NaN        NaN             NaN   \n",
       "\n",
       "  carbon-footprint_100g nutrition-score-fr_100g nutrition-score-uk_100g  \\\n",
       "0                   NaN                     NaN                     NaN   \n",
       "1                   NaN                    14.0                    14.0   \n",
       "2                   NaN                     0.0                     0.0   \n",
       "3                   NaN                    12.0                    12.0   \n",
       "4                   NaN                     NaN                     NaN   \n",
       "\n",
       "  glycemic-index_100g water-hardness_100g  \n",
       "0                 NaN                 NaN  \n",
       "1                 NaN                 NaN  \n",
       "2                 NaN                 NaN  \n",
       "3                 NaN                 NaN  \n",
       "4                 NaN                 NaN  \n",
       "\n",
       "[5 rows x 162 columns]"
      ]
     },
     "execution_count": 5,
     "metadata": {},
     "output_type": "execute_result"
    }
   ],
   "source": [
    "df_foods.head(5)"
   ]
  },
  {
   "cell_type": "markdown",
   "metadata": {},
   "source": [
    "##### 🧠 Comme vous pouvez le constater, notre jeu de données est correctement chargé."
   ]
  },
  {
   "cell_type": "markdown",
   "metadata": {},
   "source": [
    "## 2.3) Le DataFrame"
   ]
  },
  {
   "cell_type": "markdown",
   "metadata": {},
   "source": [
    "**👉 Voyons combien de `lignes` et de `colonnes` sont contenues dans `df_foods`**"
   ]
  },
  {
   "cell_type": "code",
   "execution_count": null,
   "metadata": {},
   "outputs": [
    {
     "data": {
      "text/plain": [
       "(320772, 162)"
      ]
     },
     "execution_count": 117,
     "metadata": {},
     "output_type": "execute_result"
    }
   ],
   "source": [
    "df_foods.shape"
   ]
  },
  {
   "cell_type": "code",
   "execution_count": null,
   "metadata": {},
   "outputs": [
    {
     "name": "stdout",
     "output_type": "stream",
     "text": [
      "<class 'pandas.core.frame.DataFrame'>\n",
      "RangeIndex: 320772 entries, 0 to 320771\n",
      "Columns: 162 entries, code to water-hardness_100g\n",
      "dtypes: float64(106), object(56)\n",
      "memory usage: 396.5+ MB\n"
     ]
    }
   ],
   "source": [
    "df_foods.info()"
   ]
  },
  {
   "cell_type": "markdown",
   "metadata": {},
   "source": [
    "##### 🧠 Nous avons 56 colonnes de `type` objet qui correspodent à des chaînes de caractères. Le jeu de données occupe presque `400 MB de la mémoire RAM`. Ce qui est considérable. Mais il reste à savoir si tous ces colonnes aussi utiles par rapport à notre objectif. Pensons aux **données manquantes!**. Il va falloir identifier les colonnes qui nous seront utiles à notre application par la suite et se debarasser des autres."
   ]
  },
  {
   "cell_type": "markdown",
   "metadata": {},
   "source": [
    "## 2.4) Qualité des données"
   ]
  },
  {
   "cell_type": "markdown",
   "metadata": {},
   "source": [
    "**👉 Mesurons le pourcentage de `valeurs manquantes` par colonne**"
   ]
  },
  {
   "cell_type": "code",
   "execution_count": 8,
   "metadata": {},
   "outputs": [
    {
     "data": {
      "text/plain": [
       "code                       0.000072\n",
       "url                        0.000072\n",
       "creator                    0.000006\n",
       "created_t                  0.000009\n",
       "created_datetime           0.000028\n",
       "                             ...   \n",
       "carbon-footprint_100g      0.999165\n",
       "nutrition-score-fr_100g    0.310382\n",
       "nutrition-score-uk_100g    0.310382\n",
       "glycemic-index_100g        1.000000\n",
       "water-hardness_100g        1.000000\n",
       "Length: 162, dtype: float64"
      ]
     },
     "execution_count": 8,
     "metadata": {},
     "output_type": "execute_result"
    }
   ],
   "source": [
    "df_foods.isna().mean(axis=0)"
   ]
  },
  {
   "cell_type": "markdown",
   "metadata": {},
   "source": [
    "**👉 Mesurons la moyen du nombre des colonnes pour lesquelles le pourcentage de `valeurs manquantes` est superieur à `50%*`**"
   ]
  },
  {
   "cell_type": "code",
   "execution_count": 16,
   "metadata": {},
   "outputs": [
    {
     "data": {
      "text/plain": [
       "0.7901234567901234"
      ]
     },
     "execution_count": 16,
     "metadata": {},
     "output_type": "execute_result"
    }
   ],
   "source": [
    "s = df_foods.isnull().mean(axis=0) >= 0.5\n",
    "s.mean()"
   ]
  },
  {
   "cell_type": "code",
   "execution_count": 17,
   "metadata": {},
   "outputs": [
    {
     "data": {
      "text/plain": [
       "128"
      ]
     },
     "execution_count": 17,
     "metadata": {},
     "output_type": "execute_result"
    }
   ],
   "source": [
    "s.sum()"
   ]
  },
  {
   "cell_type": "markdown",
   "metadata": {},
   "source": [
    "##### 🧠 Nous pouvons constater que les valeurs pour certaines colonnes sont quasi inéxistantes. En occurrence plus `128` de `79%` des colonnes ont dont le pourcentage de `valeurs manquantes` est supérieure à `50%`. Ce qui signie nous sommes en face d'un jeu de données relativement `moins riches`. Nous allons apporter une solution à ce problème en fonction de notre application."
   ]
  },
  {
   "cell_type": "markdown",
   "metadata": {},
   "source": [
    "**👉 Vérifions si les colonnes `date` sont bien typées**"
   ]
  },
  {
   "cell_type": "code",
   "execution_count": null,
   "metadata": {},
   "outputs": [
    {
     "name": "stdout",
     "output_type": "stream",
     "text": [
      "<class 'pandas.core.frame.DataFrame'>\n",
      "RangeIndex: 320772 entries, 0 to 320771\n",
      "Data columns (total 4 columns):\n",
      " #   Column                  Non-Null Count   Dtype \n",
      "---  ------                  --------------   ----- \n",
      " 0   created_t               320769 non-null  object\n",
      " 1   created_datetime        320763 non-null  object\n",
      " 2   last_modified_t         320772 non-null  object\n",
      " 3   last_modified_datetime  320772 non-null  object\n",
      "dtypes: object(4)\n",
      "memory usage: 9.8+ MB\n"
     ]
    }
   ],
   "source": [
    "df_foods[['created_t','created_datetime','last_modified_t',\t'last_modified_datetime']].info()"
   ]
  },
  {
   "cell_type": "markdown",
   "metadata": {},
   "source": [
    "##### 🧠 Comme nous pouvons le voir, les dates ne sont pas bien typées. Nous adapterons les formats des dates dans la section suivante."
   ]
  },
  {
   "cell_type": "markdown",
   "metadata": {},
   "source": [
    "**👉 Voyons s'il existe des duplicatas en scrutant le feature `code`**"
   ]
  },
  {
   "cell_type": "code",
   "execution_count": null,
   "metadata": {},
   "outputs": [
    {
     "data": {
      "text/plain": [
       "133"
      ]
     },
     "execution_count": 121,
     "metadata": {},
     "output_type": "execute_result"
    }
   ],
   "source": [
    "df_foods.duplicated(subset=['code']).sum()"
   ]
  },
  {
   "cell_type": "markdown",
   "metadata": {},
   "source": [
    "##### 🧠 Vue que les duplicatas n'ont pas de valeur ajouté, il va falloir les supprimer pour reduire la taille du jeu de données. ####"
   ]
  },
  {
   "cell_type": "markdown",
   "metadata": {},
   "source": [
    "##### Faisons la description metier afin de comprendre la signification de quelques importantes colonnes."
   ]
  },
  {
   "cell_type": "markdown",
   "metadata": {},
   "source": [
    "## 2.5) Description metier"
   ]
  },
  {
   "cell_type": "markdown",
   "metadata": {},
   "source": [
    "### `Généralité`\n",
    "Les 162 champs sont repartis sur quatre catégaries:\n",
    "> Les données de references telsque code, nom, date de création, date de modification \\\n",
    "> Un ensemble de tags relatif aux à l'origine, fabriquant, catégaries du produit, localisation, place de vente et pays de vente \\\n",
    "> La Composition du produit: ingrédients naturals et additifs associés \\\n",
    "> Les informations nutritionnelles: quantité du nutriment pour 100g du produit, score nutritionnel attribué par UK FSA pour 100g "
   ]
  },
  {
   "cell_type": "markdown",
   "metadata": {},
   "source": [
    "## 2.6) Nettoyage du jeu de données"
   ]
  },
  {
   "cell_type": "markdown",
   "metadata": {},
   "source": [
    "**👉 Supprimons les duplicatas**"
   ]
  },
  {
   "cell_type": "code",
   "execution_count": null,
   "metadata": {},
   "outputs": [],
   "source": [
    "df_foods = df_foods.drop_duplicates(subset=['code'])"
   ]
  },
  {
   "cell_type": "code",
   "execution_count": null,
   "metadata": {},
   "outputs": [
    {
     "data": {
      "text/plain": [
       "0"
      ]
     },
     "execution_count": 123,
     "metadata": {},
     "output_type": "execute_result"
    }
   ],
   "source": [
    "df_foods.duplicated(subset=['code']).sum()"
   ]
  },
  {
   "cell_type": "markdown",
   "metadata": {},
   "source": [
    "**👉 Supprimons toutes les colonnes avec tous les champs inconnus, ou `NaN` en anglais**"
   ]
  },
  {
   "cell_type": "code",
   "execution_count": null,
   "metadata": {},
   "outputs": [],
   "source": [
    "df_foods = df_foods.loc[:, ~df_foods.isnull().all()]"
   ]
  },
  {
   "cell_type": "code",
   "execution_count": null,
   "metadata": {},
   "outputs": [],
   "source": [
    "df_foods = df_foods.drop(columns=[col for col in df_foods.columns if not df_foods[col].isna().mean()<0.9], axis=1)"
   ]
  },
  {
   "cell_type": "code",
   "execution_count": null,
   "metadata": {},
   "outputs": [
    {
     "data": {
      "text/html": [
       "<div>\n",
       "<style scoped>\n",
       "    .dataframe tbody tr th:only-of-type {\n",
       "        vertical-align: middle;\n",
       "    }\n",
       "\n",
       "    .dataframe tbody tr th {\n",
       "        vertical-align: top;\n",
       "    }\n",
       "\n",
       "    .dataframe thead th {\n",
       "        text-align: right;\n",
       "    }\n",
       "</style>\n",
       "<table border=\"1\" class=\"dataframe\">\n",
       "  <thead>\n",
       "    <tr style=\"text-align: right;\">\n",
       "      <th></th>\n",
       "      <th>code</th>\n",
       "      <th>url</th>\n",
       "      <th>creator</th>\n",
       "      <th>created_t</th>\n",
       "      <th>created_datetime</th>\n",
       "      <th>last_modified_t</th>\n",
       "      <th>last_modified_datetime</th>\n",
       "      <th>product_name</th>\n",
       "      <th>generic_name</th>\n",
       "      <th>quantity</th>\n",
       "      <th>...</th>\n",
       "      <th>fiber_100g</th>\n",
       "      <th>proteins_100g</th>\n",
       "      <th>salt_100g</th>\n",
       "      <th>sodium_100g</th>\n",
       "      <th>vitamin-a_100g</th>\n",
       "      <th>vitamin-c_100g</th>\n",
       "      <th>calcium_100g</th>\n",
       "      <th>iron_100g</th>\n",
       "      <th>nutrition-score-fr_100g</th>\n",
       "      <th>nutrition-score-uk_100g</th>\n",
       "    </tr>\n",
       "  </thead>\n",
       "  <tbody>\n",
       "    <tr>\n",
       "      <th>0</th>\n",
       "      <td>3087</td>\n",
       "      <td>http://world-fr.openfoodfacts.org/produit/0000...</td>\n",
       "      <td>openfoodfacts-contributors</td>\n",
       "      <td>1474103866</td>\n",
       "      <td>2016-09-17T09:17:46Z</td>\n",
       "      <td>1474103893</td>\n",
       "      <td>2016-09-17T09:18:13Z</td>\n",
       "      <td>Farine de blé noir</td>\n",
       "      <td>NaN</td>\n",
       "      <td>1kg</td>\n",
       "      <td>...</td>\n",
       "      <td>NaN</td>\n",
       "      <td>NaN</td>\n",
       "      <td>NaN</td>\n",
       "      <td>NaN</td>\n",
       "      <td>NaN</td>\n",
       "      <td>NaN</td>\n",
       "      <td>NaN</td>\n",
       "      <td>NaN</td>\n",
       "      <td>NaN</td>\n",
       "      <td>NaN</td>\n",
       "    </tr>\n",
       "    <tr>\n",
       "      <th>1</th>\n",
       "      <td>4530</td>\n",
       "      <td>http://world-fr.openfoodfacts.org/produit/0000...</td>\n",
       "      <td>usda-ndb-import</td>\n",
       "      <td>1489069957</td>\n",
       "      <td>2017-03-09T14:32:37Z</td>\n",
       "      <td>1489069957</td>\n",
       "      <td>2017-03-09T14:32:37Z</td>\n",
       "      <td>Banana Chips Sweetened (Whole)</td>\n",
       "      <td>NaN</td>\n",
       "      <td>NaN</td>\n",
       "      <td>...</td>\n",
       "      <td>3.6</td>\n",
       "      <td>3.57</td>\n",
       "      <td>0.00000</td>\n",
       "      <td>0.000</td>\n",
       "      <td>0.0</td>\n",
       "      <td>0.0214</td>\n",
       "      <td>0.000</td>\n",
       "      <td>0.00129</td>\n",
       "      <td>14.0</td>\n",
       "      <td>14.0</td>\n",
       "    </tr>\n",
       "    <tr>\n",
       "      <th>2</th>\n",
       "      <td>4559</td>\n",
       "      <td>http://world-fr.openfoodfacts.org/produit/0000...</td>\n",
       "      <td>usda-ndb-import</td>\n",
       "      <td>1489069957</td>\n",
       "      <td>2017-03-09T14:32:37Z</td>\n",
       "      <td>1489069957</td>\n",
       "      <td>2017-03-09T14:32:37Z</td>\n",
       "      <td>Peanuts</td>\n",
       "      <td>NaN</td>\n",
       "      <td>NaN</td>\n",
       "      <td>...</td>\n",
       "      <td>7.1</td>\n",
       "      <td>17.86</td>\n",
       "      <td>0.63500</td>\n",
       "      <td>0.250</td>\n",
       "      <td>0.0</td>\n",
       "      <td>0.0000</td>\n",
       "      <td>0.071</td>\n",
       "      <td>0.00129</td>\n",
       "      <td>0.0</td>\n",
       "      <td>0.0</td>\n",
       "    </tr>\n",
       "    <tr>\n",
       "      <th>3</th>\n",
       "      <td>16087</td>\n",
       "      <td>http://world-fr.openfoodfacts.org/produit/0000...</td>\n",
       "      <td>usda-ndb-import</td>\n",
       "      <td>1489055731</td>\n",
       "      <td>2017-03-09T10:35:31Z</td>\n",
       "      <td>1489055731</td>\n",
       "      <td>2017-03-09T10:35:31Z</td>\n",
       "      <td>Organic Salted Nut Mix</td>\n",
       "      <td>NaN</td>\n",
       "      <td>NaN</td>\n",
       "      <td>...</td>\n",
       "      <td>7.1</td>\n",
       "      <td>17.86</td>\n",
       "      <td>1.22428</td>\n",
       "      <td>0.482</td>\n",
       "      <td>NaN</td>\n",
       "      <td>NaN</td>\n",
       "      <td>0.143</td>\n",
       "      <td>0.00514</td>\n",
       "      <td>12.0</td>\n",
       "      <td>12.0</td>\n",
       "    </tr>\n",
       "    <tr>\n",
       "      <th>4</th>\n",
       "      <td>16094</td>\n",
       "      <td>http://world-fr.openfoodfacts.org/produit/0000...</td>\n",
       "      <td>usda-ndb-import</td>\n",
       "      <td>1489055653</td>\n",
       "      <td>2017-03-09T10:34:13Z</td>\n",
       "      <td>1489055653</td>\n",
       "      <td>2017-03-09T10:34:13Z</td>\n",
       "      <td>Organic Polenta</td>\n",
       "      <td>NaN</td>\n",
       "      <td>NaN</td>\n",
       "      <td>...</td>\n",
       "      <td>5.7</td>\n",
       "      <td>8.57</td>\n",
       "      <td>NaN</td>\n",
       "      <td>NaN</td>\n",
       "      <td>NaN</td>\n",
       "      <td>NaN</td>\n",
       "      <td>NaN</td>\n",
       "      <td>NaN</td>\n",
       "      <td>NaN</td>\n",
       "      <td>NaN</td>\n",
       "    </tr>\n",
       "    <tr>\n",
       "      <th>...</th>\n",
       "      <td>...</td>\n",
       "      <td>...</td>\n",
       "      <td>...</td>\n",
       "      <td>...</td>\n",
       "      <td>...</td>\n",
       "      <td>...</td>\n",
       "      <td>...</td>\n",
       "      <td>...</td>\n",
       "      <td>...</td>\n",
       "      <td>...</td>\n",
       "      <td>...</td>\n",
       "      <td>...</td>\n",
       "      <td>...</td>\n",
       "      <td>...</td>\n",
       "      <td>...</td>\n",
       "      <td>...</td>\n",
       "      <td>...</td>\n",
       "      <td>...</td>\n",
       "      <td>...</td>\n",
       "      <td>...</td>\n",
       "      <td>...</td>\n",
       "    </tr>\n",
       "    <tr>\n",
       "      <th>320767</th>\n",
       "      <td>9948282780603</td>\n",
       "      <td>http://world-fr.openfoodfacts.org/produit/9948...</td>\n",
       "      <td>openfoodfacts-contributors</td>\n",
       "      <td>1490631299</td>\n",
       "      <td>2017-03-27T16:14:59Z</td>\n",
       "      <td>1491244498</td>\n",
       "      <td>2017-04-03T18:34:58Z</td>\n",
       "      <td>Tomato &amp; ricotta</td>\n",
       "      <td>NaN</td>\n",
       "      <td>1</td>\n",
       "      <td>...</td>\n",
       "      <td>NaN</td>\n",
       "      <td>NaN</td>\n",
       "      <td>NaN</td>\n",
       "      <td>NaN</td>\n",
       "      <td>NaN</td>\n",
       "      <td>NaN</td>\n",
       "      <td>NaN</td>\n",
       "      <td>NaN</td>\n",
       "      <td>NaN</td>\n",
       "      <td>NaN</td>\n",
       "    </tr>\n",
       "    <tr>\n",
       "      <th>320768</th>\n",
       "      <td>99567453</td>\n",
       "      <td>http://world-fr.openfoodfacts.org/produit/9956...</td>\n",
       "      <td>usda-ndb-import</td>\n",
       "      <td>1489059076</td>\n",
       "      <td>2017-03-09T11:31:16Z</td>\n",
       "      <td>1491244499</td>\n",
       "      <td>2017-04-03T18:34:59Z</td>\n",
       "      <td>Mint Melange Tea A Blend Of Peppermint, Lemon ...</td>\n",
       "      <td>NaN</td>\n",
       "      <td>NaN</td>\n",
       "      <td>...</td>\n",
       "      <td>0.0</td>\n",
       "      <td>0.00</td>\n",
       "      <td>0.00000</td>\n",
       "      <td>0.000</td>\n",
       "      <td>0.0</td>\n",
       "      <td>0.0000</td>\n",
       "      <td>0.000</td>\n",
       "      <td>0.00000</td>\n",
       "      <td>0.0</td>\n",
       "      <td>0.0</td>\n",
       "    </tr>\n",
       "    <tr>\n",
       "      <th>320769</th>\n",
       "      <td>9970229501521</td>\n",
       "      <td>http://world-fr.openfoodfacts.org/produit/9970...</td>\n",
       "      <td>tomato</td>\n",
       "      <td>1422099377</td>\n",
       "      <td>2015-01-24T11:36:17Z</td>\n",
       "      <td>1491244499</td>\n",
       "      <td>2017-04-03T18:34:59Z</td>\n",
       "      <td>乐吧泡菜味薯片</td>\n",
       "      <td>Leba pickle flavor potato chips</td>\n",
       "      <td>50 g</td>\n",
       "      <td>...</td>\n",
       "      <td>NaN</td>\n",
       "      <td>NaN</td>\n",
       "      <td>NaN</td>\n",
       "      <td>NaN</td>\n",
       "      <td>NaN</td>\n",
       "      <td>NaN</td>\n",
       "      <td>NaN</td>\n",
       "      <td>NaN</td>\n",
       "      <td>NaN</td>\n",
       "      <td>NaN</td>\n",
       "    </tr>\n",
       "    <tr>\n",
       "      <th>320770</th>\n",
       "      <td>9980282863788</td>\n",
       "      <td>http://world-fr.openfoodfacts.org/produit/9980...</td>\n",
       "      <td>openfoodfacts-contributors</td>\n",
       "      <td>1492340089</td>\n",
       "      <td>2017-04-16T10:54:49Z</td>\n",
       "      <td>1492340089</td>\n",
       "      <td>2017-04-16T10:54:49Z</td>\n",
       "      <td>Tomates aux Vermicelles</td>\n",
       "      <td>NaN</td>\n",
       "      <td>67g</td>\n",
       "      <td>...</td>\n",
       "      <td>NaN</td>\n",
       "      <td>NaN</td>\n",
       "      <td>NaN</td>\n",
       "      <td>NaN</td>\n",
       "      <td>NaN</td>\n",
       "      <td>NaN</td>\n",
       "      <td>NaN</td>\n",
       "      <td>NaN</td>\n",
       "      <td>NaN</td>\n",
       "      <td>NaN</td>\n",
       "    </tr>\n",
       "    <tr>\n",
       "      <th>320771</th>\n",
       "      <td>999990026839</td>\n",
       "      <td>http://world-fr.openfoodfacts.org/produit/9999...</td>\n",
       "      <td>usda-ndb-import</td>\n",
       "      <td>1489072709</td>\n",
       "      <td>2017-03-09T15:18:29Z</td>\n",
       "      <td>1491244499</td>\n",
       "      <td>2017-04-03T18:34:59Z</td>\n",
       "      <td>Sugar Free Drink Mix, Peach Tea</td>\n",
       "      <td>NaN</td>\n",
       "      <td>NaN</td>\n",
       "      <td>...</td>\n",
       "      <td>NaN</td>\n",
       "      <td>0.00</td>\n",
       "      <td>0.00000</td>\n",
       "      <td>0.000</td>\n",
       "      <td>NaN</td>\n",
       "      <td>NaN</td>\n",
       "      <td>NaN</td>\n",
       "      <td>NaN</td>\n",
       "      <td>NaN</td>\n",
       "      <td>NaN</td>\n",
       "    </tr>\n",
       "  </tbody>\n",
       "</table>\n",
       "<p>320639 rows × 62 columns</p>\n",
       "</div>"
      ],
      "text/plain": [
       "                 code                                                url  \\\n",
       "0                3087  http://world-fr.openfoodfacts.org/produit/0000...   \n",
       "1                4530  http://world-fr.openfoodfacts.org/produit/0000...   \n",
       "2                4559  http://world-fr.openfoodfacts.org/produit/0000...   \n",
       "3               16087  http://world-fr.openfoodfacts.org/produit/0000...   \n",
       "4               16094  http://world-fr.openfoodfacts.org/produit/0000...   \n",
       "...               ...                                                ...   \n",
       "320767  9948282780603  http://world-fr.openfoodfacts.org/produit/9948...   \n",
       "320768       99567453  http://world-fr.openfoodfacts.org/produit/9956...   \n",
       "320769  9970229501521  http://world-fr.openfoodfacts.org/produit/9970...   \n",
       "320770  9980282863788  http://world-fr.openfoodfacts.org/produit/9980...   \n",
       "320771   999990026839  http://world-fr.openfoodfacts.org/produit/9999...   \n",
       "\n",
       "                           creator   created_t      created_datetime  \\\n",
       "0       openfoodfacts-contributors  1474103866  2016-09-17T09:17:46Z   \n",
       "1                  usda-ndb-import  1489069957  2017-03-09T14:32:37Z   \n",
       "2                  usda-ndb-import  1489069957  2017-03-09T14:32:37Z   \n",
       "3                  usda-ndb-import  1489055731  2017-03-09T10:35:31Z   \n",
       "4                  usda-ndb-import  1489055653  2017-03-09T10:34:13Z   \n",
       "...                            ...         ...                   ...   \n",
       "320767  openfoodfacts-contributors  1490631299  2017-03-27T16:14:59Z   \n",
       "320768             usda-ndb-import  1489059076  2017-03-09T11:31:16Z   \n",
       "320769                      tomato  1422099377  2015-01-24T11:36:17Z   \n",
       "320770  openfoodfacts-contributors  1492340089  2017-04-16T10:54:49Z   \n",
       "320771             usda-ndb-import  1489072709  2017-03-09T15:18:29Z   \n",
       "\n",
       "       last_modified_t last_modified_datetime  \\\n",
       "0           1474103893   2016-09-17T09:18:13Z   \n",
       "1           1489069957   2017-03-09T14:32:37Z   \n",
       "2           1489069957   2017-03-09T14:32:37Z   \n",
       "3           1489055731   2017-03-09T10:35:31Z   \n",
       "4           1489055653   2017-03-09T10:34:13Z   \n",
       "...                ...                    ...   \n",
       "320767      1491244498   2017-04-03T18:34:58Z   \n",
       "320768      1491244499   2017-04-03T18:34:59Z   \n",
       "320769      1491244499   2017-04-03T18:34:59Z   \n",
       "320770      1492340089   2017-04-16T10:54:49Z   \n",
       "320771      1491244499   2017-04-03T18:34:59Z   \n",
       "\n",
       "                                             product_name  \\\n",
       "0                                      Farine de blé noir   \n",
       "1                          Banana Chips Sweetened (Whole)   \n",
       "2                                                 Peanuts   \n",
       "3                                  Organic Salted Nut Mix   \n",
       "4                                         Organic Polenta   \n",
       "...                                                   ...   \n",
       "320767                                  Tomato & ricotta    \n",
       "320768  Mint Melange Tea A Blend Of Peppermint, Lemon ...   \n",
       "320769                                            乐吧泡菜味薯片   \n",
       "320770                           Tomates aux Vermicelles    \n",
       "320771                    Sugar Free Drink Mix, Peach Tea   \n",
       "\n",
       "                           generic_name quantity  ... fiber_100g  \\\n",
       "0                                   NaN      1kg  ...        NaN   \n",
       "1                                   NaN      NaN  ...        3.6   \n",
       "2                                   NaN      NaN  ...        7.1   \n",
       "3                                   NaN      NaN  ...        7.1   \n",
       "4                                   NaN      NaN  ...        5.7   \n",
       "...                                 ...      ...  ...        ...   \n",
       "320767                              NaN        1  ...        NaN   \n",
       "320768                              NaN      NaN  ...        0.0   \n",
       "320769  Leba pickle flavor potato chips     50 g  ...        NaN   \n",
       "320770                              NaN      67g  ...        NaN   \n",
       "320771                              NaN      NaN  ...        NaN   \n",
       "\n",
       "       proteins_100g salt_100g sodium_100g vitamin-a_100g vitamin-c_100g  \\\n",
       "0                NaN       NaN         NaN            NaN            NaN   \n",
       "1               3.57   0.00000       0.000            0.0         0.0214   \n",
       "2              17.86   0.63500       0.250            0.0         0.0000   \n",
       "3              17.86   1.22428       0.482            NaN            NaN   \n",
       "4               8.57       NaN         NaN            NaN            NaN   \n",
       "...              ...       ...         ...            ...            ...   \n",
       "320767           NaN       NaN         NaN            NaN            NaN   \n",
       "320768          0.00   0.00000       0.000            0.0         0.0000   \n",
       "320769           NaN       NaN         NaN            NaN            NaN   \n",
       "320770           NaN       NaN         NaN            NaN            NaN   \n",
       "320771          0.00   0.00000       0.000            NaN            NaN   \n",
       "\n",
       "       calcium_100g iron_100g nutrition-score-fr_100g nutrition-score-uk_100g  \n",
       "0               NaN       NaN                     NaN                     NaN  \n",
       "1             0.000   0.00129                    14.0                    14.0  \n",
       "2             0.071   0.00129                     0.0                     0.0  \n",
       "3             0.143   0.00514                    12.0                    12.0  \n",
       "4               NaN       NaN                     NaN                     NaN  \n",
       "...             ...       ...                     ...                     ...  \n",
       "320767          NaN       NaN                     NaN                     NaN  \n",
       "320768        0.000   0.00000                     0.0                     0.0  \n",
       "320769          NaN       NaN                     NaN                     NaN  \n",
       "320770          NaN       NaN                     NaN                     NaN  \n",
       "320771          NaN       NaN                     NaN                     NaN  \n",
       "\n",
       "[320639 rows x 62 columns]"
      ]
     },
     "execution_count": 126,
     "metadata": {},
     "output_type": "execute_result"
    }
   ],
   "source": [
    "df_foods"
   ]
  },
  {
   "cell_type": "markdown",
   "metadata": {},
   "source": [
    "## To do \n",
    "1 - Description metiers\\\n",
    "2 - Visual pour presenter les valeurs misingo \\\n",
    "3 - install plotly \\\n",
    "4 - Univarier des colonnes selectionnés \\\n",
    "6-  supprimer les colonnes constants \\\n",
    "7-  analyse univariée \\\n",
    "6-  analyse multivariée"
   ]
  },
  {
   "cell_type": "markdown",
   "metadata": {},
   "source": [
    "**👉 Mainténant il serait utile d'avoir quelques informations sur le `type` de chacune des `colonnes`**"
   ]
  }
 ],
 "metadata": {
  "interpreter": {
   "hash": "9a3c061b3107e8fb37414248b8fd714373a5d75f16a49e76e45d6cf822a5e0ba"
  },
  "kernelspec": {
   "display_name": "Python 3.9.7 64-bit ('p1Sante': conda)",
   "language": "python",
   "name": "python3"
  },
  "language_info": {
   "codemirror_mode": {
    "name": "ipython",
    "version": 3
   },
   "file_extension": ".py",
   "mimetype": "text/x-python",
   "name": "python",
   "nbconvert_exporter": "python",
   "pygments_lexer": "ipython3",
   "version": "3.7.11"
  },
  "orig_nbformat": 4
 },
 "nbformat": 4,
 "nbformat_minor": 2
}
